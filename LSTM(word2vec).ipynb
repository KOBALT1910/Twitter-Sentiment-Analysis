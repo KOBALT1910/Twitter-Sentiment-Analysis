{
 "cells": [
  {
   "cell_type": "code",
   "execution_count": 52,
   "metadata": {},
   "outputs": [],
   "source": [
    "import numpy as np\n",
    "import pandas as pd\n",
    "\n",
    "from sklearn.model_selection import train_test_split\n",
    "from nltk import word_tokenize, sent_tokenize\n",
    "\n",
    "import keras\n",
    "from keras.preprocessing.text import Tokenizer #one_hot\n",
    "from keras.preprocessing.sequence import pad_sequences\n",
    "from keras.models import Sequential\n",
    "from keras.layers import Dense, Flatten, Embedding, LSTM, SpatialDropout1D, Input, Bidirectional, Dropout\n",
    "from keras.callbacks import EarlyStopping, ReduceLROnPlateau\n",
    "#from keras.regularizers import l2"
   ]
  },
  {
   "cell_type": "code",
   "execution_count": 53,
   "metadata": {},
   "outputs": [],
   "source": [
    "dtype = {'type': np.int8, 'clear_text': str,}\n",
    "path = 'C:/Users/user/sentiment/clear_binary_twitts.csv' #home"
   ]
  },
  {
   "cell_type": "code",
   "execution_count": 54,
   "metadata": {},
   "outputs": [],
   "source": [
    "df = pd.read_csv (path, sep=',', dtype=dtype)"
   ]
  },
  {
   "cell_type": "code",
   "execution_count": 55,
   "metadata": {},
   "outputs": [],
   "source": [
    "import string\n",
    "data_lines = []\n",
    "\n",
    "twitt_data = df['clear_text'].values\n",
    "\n",
    "lines = twitt_data.tolist()\n",
    "\n",
    "for line in lines:\n",
    "    line = str(line)\n",
    "    data_lines.append(line.split())  #data_lines = [['w1','w2','w3'], ['w4'], ['w5', ..., 'w6'], ...,['wi','wj']]"
   ]
  },
  {
   "cell_type": "code",
   "execution_count": 56,
   "metadata": {},
   "outputs": [
    {
     "name": "stdout",
     "output_type": "stream",
     "text": [
      "vocab size: 85754\n"
     ]
    }
   ],
   "source": [
    "import gensim\n",
    "\n",
    "embedding_vector_size = 300\n",
    "model_1 = gensim.models.Word2Vec(data_lines, size=embedding_vector_size, min_count=1, window=5) #training embeddings for words\n",
    "\n",
    "words = list(model_1.wv.vocab) #number of unique words\n",
    "print(\"vocab size:\", len(words))"
   ]
  },
  {
   "cell_type": "code",
   "execution_count": 57,
   "metadata": {},
   "outputs": [
    {
     "data": {
      "text/plain": [
       "Text(0,0.5,'frequency')"
      ]
     },
     "execution_count": 57,
     "metadata": {},
     "output_type": "execute_result"
    },
    {
     "data": {
      "image/png": "[encoded data removed]",
      "text/plain": [
       "<Figure size 432x288 with 1 Axes>"
      ]
     },
     "metadata": {},
     "output_type": "display_data"
    }
   ],
   "source": [
    "import matplotlib.pyplot as plt\n",
    "leng=0\n",
    "length = [(leng + len(x)) for x in data_lines]\n",
    "plt.hist(length)\n",
    "plt.xlabel('length of sequence')\n",
    "plt.ylabel('frequency')"
   ]
  },
  {
   "cell_type": "code",
   "execution_count": 58,
   "metadata": {},
   "outputs": [
    {
     "name": "stdout",
     "output_type": "stream",
     "text": [
      "6.0600483172716615\n"
     ]
    }
   ],
   "source": [
    "import math\n",
    "avg_length = sum(length)/len(data_lines)\n",
    "print(avg_length)"
   ]
  },
  {
   "cell_type": "code",
   "execution_count": 59,
   "metadata": {},
   "outputs": [],
   "source": [
    "max_len = 12 #how many words in seq to keep. if less than padding with 0"
   ]
  },
  {
   "cell_type": "code",
   "execution_count": 60,
   "metadata": {},
   "outputs": [],
   "source": [
    "max_features = 20000\n",
    "tokenizer = Tokenizer(num_words=max_features)       #keeps 10000 most common words\n",
    "data = data_lines                       # contains word tokens extracted from lines\n",
    "tokenizer.fit_on_texts(data)\n",
    "sequence = tokenizer.texts_to_sequences(data)\n",
    "data = pad_sequences(sequence, maxlen = max_len)"
   ]
  },
  {
   "cell_type": "code",
   "execution_count": 61,
   "metadata": {},
   "outputs": [],
   "source": [
    "#__________________________________Preparing embedding matrix______________________________________\n",
    "vocab_size = len(tokenizer.word_index)+1 # +1 because i starts from 1 instead of 0, and goes till len(vocab)\n",
    "embedding_matrix = np.zeros((vocab_size, embedding_vector_size))\n",
    "\n",
    "for  word, i in tokenizer.word_index.items():\n",
    "    embedding_vector = model_1.wv[word]\n",
    "    if embedding_vector is not None:\n",
    "        embedding_matrix[i] = embedding_vector"
   ]
  },
  {
   "cell_type": "code",
   "execution_count": 62,
   "metadata": {},
   "outputs": [],
   "source": [
    "X = data\n",
    "df['label'] = (df['type'] + abs(df['type'])) // 2 # pos 1 --> 1, neg -1 --> 0\n",
    "y = df['label']"
   ]
  },
  {
   "cell_type": "code",
   "execution_count": 63,
   "metadata": {},
   "outputs": [],
   "source": [
    "X_train, X_test, y_train, y_test = train_test_split(X , y, test_size=0.1, random_state=42, shuffle=True)"
   ]
  },
  {
   "cell_type": "code",
   "execution_count": 64,
   "metadata": {},
   "outputs": [],
   "source": [
    "model = Sequential()\n",
    "\n",
    "model.add(Embedding(input_dim = vocab_size, output_dim = embedding_vector_size, \n",
    "                    input_length = max_len, weights = [embedding_matrix]))\n",
    "model.add(Bidirectional(LSTM(64, dropout=0.25, recurrent_dropout=0.1)))\n",
    "model.add(Dense(10))\n",
    "model.add(Dropout(0.3))\n",
    "model.add(Dense(1, activation='sigmoid'))"
   ]
  },
  {
   "cell_type": "code",
   "execution_count": 65,
   "metadata": {},
   "outputs": [],
   "source": [
    "learning_rate_reduction = ReduceLROnPlateau(monitor='val_acc', \n",
    "                                            patience=3, \n",
    "                                            verbose=1, \n",
    "                                            factor=0.5, \n",
    "                                            min_lr=0.00001)"
   ]
  },
  {
   "cell_type": "code",
   "execution_count": 66,
   "metadata": {},
   "outputs": [
    {
     "name": "stdout",
     "output_type": "stream",
     "text": [
      "_________________________________________________________________\n",
      "Layer (type)                 Output Shape              Param #   \n",
      "=================================================================\n",
      "embedding_4 (Embedding)      (None, 12, 300)           25726500  \n",
      "_________________________________________________________________\n",
      "bidirectional_4 (Bidirection (None, 128)               186880    \n",
      "_________________________________________________________________\n",
      "dense_7 (Dense)              (None, 10)                1290      \n",
      "_________________________________________________________________\n",
      "dropout_4 (Dropout)          (None, 10)                0         \n",
      "_________________________________________________________________\n",
      "dense_8 (Dense)              (None, 1)                 11        \n",
      "=================================================================\n",
      "Total params: 25,914,681\n",
      "Trainable params: 25,914,681\n",
      "Non-trainable params: 0\n",
      "_________________________________________________________________\n",
      "None\n",
      "Train on 204150 samples, validate on 22684 samples\n",
      "Epoch 1/5\n",
      "204150/204150 [==============================] - 248s 1ms/step - loss: 0.6082 - acc: 0.6621 - val_loss: 0.5625 - val_acc: 0.7065\n",
      "Epoch 2/5\n",
      "204150/204150 [==============================] - 245s 1ms/step - loss: 0.5326 - acc: 0.7333 - val_loss: 0.5472 - val_acc: 0.7175\n",
      "Epoch 3/5\n",
      "204150/204150 [==============================] - 245s 1ms/step - loss: 0.5076 - acc: 0.7501 - val_loss: 0.5496 - val_acc: 0.7199\n",
      "Epoch 4/5\n",
      "204150/204150 [==============================] - 245s 1ms/step - loss: 0.4925 - acc: 0.7596 - val_loss: 0.5527 - val_acc: 0.7155\n",
      "Epoch 5/5\n",
      "204150/204150 [==============================] - 248s 1ms/step - loss: 0.4771 - acc: 0.7703 - val_loss: 0.5555 - val_acc: 0.7156\n"
     ]
    }
   ],
   "source": [
    "model.compile(optimizer='RMSprop', loss='binary_crossentropy', metrics=['acc'])\n",
    "print(model.summary())\n",
    "\n",
    "history = model.fit(X_train, y_train, epochs = 5, batch_size = 700, validation_data=(X_test, y_test),callbacks = [learning_rate_reduction])"
   ]
  },
  {
   "cell_type": "code",
   "execution_count": 67,
   "metadata": {},
   "outputs": [
    {
     "name": "stdout",
     "output_type": "stream",
     "text": [
      "val_acc: 0.7156\n"
     ]
    }
   ],
   "source": [
    "print('val_acc: 0.7156')"
   ]
  },
  {
   "cell_type": "code",
   "execution_count": null,
   "metadata": {},
   "outputs": [],
   "source": []
  }
 ],
 "metadata": {
  "kernelspec": {
   "display_name": "Python 3",
   "language": "python",
   "name": "python3"
  },
  "language_info": {
   "codemirror_mode": {
    "name": "ipython",
    "version": 3
   },
   "file_extension": ".py",
   "mimetype": "text/x-python",
   "name": "python",
   "nbconvert_exporter": "python",
   "pygments_lexer": "ipython3",
   "version": "3.6.5"
  }
 },
 "nbformat": 4,
 "nbformat_minor": 2
}
