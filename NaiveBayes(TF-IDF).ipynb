{
 "cells": [
  {
   "cell_type": "code",
   "execution_count": 1,
   "metadata": {},
   "outputs": [],
   "source": [
    "import numpy as np\n",
    "import pandas as pd\n",
    "\n",
    "from sklearn.model_selection import train_test_split\n",
    "from sklearn.feature_extraction.text import CountVectorizer \n",
    "from sklearn.feature_extraction.text import TfidfVectorizer\n",
    "\n",
    "from sklearn.naive_bayes import MultinomialNB \n",
    "from sklearn.metrics import accuracy_score"
   ]
  },
  {
   "cell_type": "code",
   "execution_count": 2,
   "metadata": {},
   "outputs": [],
   "source": [
    "dtype = {'type': np.int8, 'clear_text': str,}\n",
    "path = 'C:/Users/user/sentiment/clear_binary_twitts.csv' #home"
   ]
  },
  {
   "cell_type": "code",
   "execution_count": 3,
   "metadata": {},
   "outputs": [
    {
     "name": "stdout",
     "output_type": "stream",
     "text": [
      "        type                                      clear_text\n",
      "26253      1                      игра красн бел форм нарост\n",
      "120387    -1                            класс погоня возьмут\n",
      "192108    -1  лучш сервис расскрутк ваш аккаунт социальн сет\n",
      "131248    -1       наверн буд реша задач хим физик вечн пздц\n",
      "119281    -1                      буд примерн недел связ обл \n",
      "\n",
      "        type                                         clear_text\n",
      "215081    -1                                   мыс обидел сдела\n",
      "220754    -1                      ааааааааааааааааааа хоч работ\n",
      "60463      1    особен вид некотор вакуумн наушник прост держат\n",
      "213263    -1  неплох человек жизн работа биз мног знаком вст...\n",
      "113055     1  домаааа еха такс пел песн отдыха крича улиц на...\n"
     ]
    }
   ],
   "source": [
    "df = pd.read_csv (path, sep=',', dtype=dtype)\n",
    "train, test = train_test_split(df, test_size = 0.1, random_state = 42)\n",
    "print(train.head(), '\\n')\n",
    "print(test.head())"
   ]
  },
  {
   "cell_type": "code",
   "execution_count": 4,
   "metadata": {},
   "outputs": [],
   "source": [
    "#t1 = test.type[test.type  == 1].count()\n",
    "#t0 = test.type[test.type  == -1].count()\n",
    "#print(t1,t0) # 11408 11276"
   ]
  },
  {
   "cell_type": "markdown",
   "metadata": {},
   "source": [
    "# Модель NaiveBayes emb. TF-IDF 0.7303"
   ]
  },
  {
   "cell_type": "code",
   "execution_count": 5,
   "metadata": {},
   "outputs": [
    {
     "name": "stdout",
     "output_type": "stream",
     "text": [
      "(204150,)\n",
      "(22684,)\n"
     ]
    }
   ],
   "source": [
    "y_train = train['type']\n",
    "y_test = test['type']\n",
    "\n",
    "train_data = []\n",
    "for twitt in train['clear_text']:\n",
    "    train_data.append(twitt)        \n",
    "train_data = np.array(train_data)\n",
    "\n",
    "test_data = []\n",
    "for twitt in test['clear_text']:\n",
    "    test_data.append(twitt)    \n",
    "test_data = np.array(test_data)\n",
    "\n",
    "print(train_data.shape)\n",
    "print(test_data.shape)"
   ]
  },
  {
   "cell_type": "code",
   "execution_count": 6,
   "metadata": {},
   "outputs": [],
   "source": [
    "# TF-IDF\n",
    "tfidf = TfidfVectorizer(\n",
    "           ngram_range=(1, 3),\n",
    "           use_idf=1,\n",
    "           smooth_idf=1)\n",
    "\n",
    "data_train_count = tfidf.fit_transform(train_data)\n",
    "data_test_count  = tfidf.transform(test_data)"
   ]
  },
  {
   "cell_type": "code",
   "execution_count": 7,
   "metadata": {},
   "outputs": [
    {
     "name": "stdout",
     "output_type": "stream",
     "text": [
      "[-1 -1  1 ... -1  1  1]\n"
     ]
    }
   ],
   "source": [
    "clf = MultinomialNB()\n",
    "clf.fit(data_train_count, y_train)\n",
    "pred = clf.predict(data_test_count)\n",
    "print(pred)"
   ]
  },
  {
   "cell_type": "code",
   "execution_count": 10,
   "metadata": {},
   "outputs": [
    {
     "name": "stdout",
     "output_type": "stream",
     "text": [
      "NaiveBayes (TF_IDF):  0.7302503967554224\n"
     ]
    }
   ],
   "source": [
    "print('NaiveBayes (TF_IDF): ', accuracy_score(y_test, pred))"
   ]
  },
  {
   "cell_type": "code",
   "execution_count": null,
   "metadata": {},
   "outputs": [],
   "source": []
  }
 ],
 "metadata": {
  "kernelspec": {
   "display_name": "Python 3",
   "language": "python",
   "name": "python3"
  },
  "language_info": {
   "codemirror_mode": {
    "name": "ipython",
    "version": 3
   },
   "file_extension": ".py",
   "mimetype": "text/x-python",
   "name": "python",
   "nbconvert_exporter": "python",
   "pygments_lexer": "ipython3",
   "version": "3.7.1"
  }
 },
 "nbformat": 4,
 "nbformat_minor": 2
}
