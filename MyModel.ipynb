{
 "cells": [
  {
   "cell_type": "code",
   "execution_count": 1,
   "metadata": {},
   "outputs": [],
   "source": [
    "import numpy as np\n",
    "import pandas as pd"
   ]
  },
  {
   "cell_type": "code",
   "execution_count": 2,
   "metadata": {},
   "outputs": [],
   "source": [
    "dtype = {'type': np.int8, 'clear_text': str,}\n",
    "path = 'C:/Users/user/sentiment/clear_binary_twitts.csv' #home"
   ]
  },
  {
   "cell_type": "code",
   "execution_count": 3,
   "metadata": {},
   "outputs": [],
   "source": [
    "df = pd.read_csv (path, sep=',', dtype=dtype)"
   ]
  },
  {
   "cell_type": "code",
   "execution_count": 4,
   "metadata": {},
   "outputs": [],
   "source": [
    "from sklearn.model_selection import train_test_split\n",
    "\n",
    "train, test = train_test_split(df, test_size=0.1, random_state=42)"
   ]
  },
  {
   "cell_type": "code",
   "execution_count": 5,
   "metadata": {},
   "outputs": [
    {
     "name": "stdout",
     "output_type": "stream",
     "text": [
      "11408 11276\n"
     ]
    }
   ],
   "source": [
    "t1 = test.type[test.type  == 1].count()\n",
    "t0 = test.type[test.type  == -1].count()\n",
    "print(t1,t0)"
   ]
  },
  {
   "cell_type": "code",
   "execution_count": 6,
   "metadata": {},
   "outputs": [],
   "source": [
    "def count_unic_words(data):\n",
    "    \n",
    "    number = 0\n",
    "    dic = []\n",
    "    i = 0\n",
    "    for st in data:\n",
    "        for w in str(st).split():\n",
    "            if w not in dic:\n",
    "                dic.append(w)\n",
    "       \n",
    "    number = len(dic)\n",
    "    return number, dic"
   ]
  },
  {
   "cell_type": "code",
   "execution_count": 7,
   "metadata": {},
   "outputs": [],
   "source": [
    "n, l = count_unic_words(train['clear_text']) #number of unique words & list of words (vocabulary)"
   ]
  },
  {
   "cell_type": "code",
   "execution_count": 8,
   "metadata": {},
   "outputs": [],
   "source": [
    "#with open('C:/Users/user/sentiment/train_dictionary.txt','w') as file2:\n",
    "#    for x in l:\n",
    "#        file2.write(x)\n",
    "#        file2.write(' ')"
   ]
  },
  {
   "cell_type": "code",
   "execution_count": 9,
   "metadata": {},
   "outputs": [],
   "source": [
    "def create_dic_words(n, l):\n",
    "      \n",
    "    nul1 = [int(0) for i in range(n)]\n",
    "    nul2 = [int(0) for i in range(n)]    \n",
    "    dic = {'word': l, 'pos': nul1, 'neg': nul2}\n",
    "\n",
    "    return dic"
   ]
  },
  {
   "cell_type": "code",
   "execution_count": 15,
   "metadata": {},
   "outputs": [
    {
     "name": "stdout",
     "output_type": "stream",
     "text": [
      "Количество уникальных слов в train выборке:  80894  (длина словаря)\n"
     ]
    }
   ],
   "source": [
    "print('Количество уникальных слов в train выборке: ', n, ' (длина словаря)')"
   ]
  },
  {
   "cell_type": "code",
   "execution_count": 16,
   "metadata": {},
   "outputs": [],
   "source": [
    "dic = create_dic_words(n, l)"
   ]
  },
  {
   "cell_type": "markdown",
   "metadata": {},
   "source": [
    "# Модель, основанная на предположении, что среднеположительное слово чаще используется в позитивных сообщениях, а среднеотрицательное слово - в негативных. 0.706\n",
    "\n",
    "Для построения модели потребуется создать словарь всех используемых слов. \n",
    "Модель предполагает нахождение веса каждого слова словаря. Вес расчитывается по формуле V = (P-N)/(P+N).\n",
    "V принадлежит промежутку значений [-1; 1]. Чем ближе V к 0 - тем нейтральнее слово.\n",
    "Когда модель предсказывает тональность сообщения из test, она складывает веса всех слов этого сообщения (если какого-то слова нет в словаре - пропускает его)."
   ]
  },
  {
   "cell_type": "markdown",
   "metadata": {},
   "source": [
    "При расчете V никогда не произойдет ситуации, в которой N+P = 0 (деление на 0), так как в словаре содержатся все слова, которые хоть раз были упомянуты в train."
   ]
  },
  {
   "cell_type": "markdown",
   "metadata": {},
   "source": [
    "В итоге - если сумма весов слов, входящих в сообщение, >= 0, то (скорее всего) это сообщение имеет позитивную тональность. Иначе - негативную"
   ]
  },
  {
   "attachments": {
    "image.png": {
     "image/png": "[encoded data removed]"
    }
   },
   "cell_type": "markdown",
   "metadata": {},
   "source": [
    "![image.png](attachment:image.png)"
   ]
  },
  {
   "cell_type": "code",
   "execution_count": 17,
   "metadata": {},
   "outputs": [],
   "source": [
    "def filling_used_train_words(dataframe, dic):\n",
    "    \n",
    "    i = -1\n",
    "    for index, row in dataframe.iterrows():\n",
    "        i += 1\n",
    "        \n",
    "        spisok = row['clear_text']\n",
    "        \n",
    "        for w in str(spisok).split():\n",
    "            if row['type'] == 1:\n",
    "                dic.get('pos')[l.index(w)] += 1\n",
    "            if row['type'] == -1:\n",
    "                dic.get('neg')[l.index(w)] += 1\n",
    "\n",
    "        if (i % 10000 == 0):\n",
    "            print('обработана ', i, 'строка из 204150: ', i/2041.5, ' %\\n')\n",
    "    return dic"
   ]
  },
  {
   "cell_type": "code",
   "execution_count": 18,
   "metadata": {},
   "outputs": [
    {
     "name": "stdout",
     "output_type": "stream",
     "text": [
      "обработана  0 строка из 204150:  0.0  %\n",
      "\n",
      "обработана  10000 строка из 204150:  4.898359049718344  %\n",
      "\n",
      "обработана  20000 строка из 204150:  9.796718099436688  %\n",
      "\n",
      "обработана  30000 строка из 204150:  14.695077149155033  %\n",
      "\n",
      "обработана  40000 строка из 204150:  19.593436198873377  %\n",
      "\n",
      "обработана  50000 строка из 204150:  24.49179524859172  %\n",
      "\n",
      "обработана  60000 строка из 204150:  29.390154298310065  %\n",
      "\n",
      "обработана  70000 строка из 204150:  34.28851334802841  %\n",
      "\n",
      "обработана  80000 строка из 204150:  39.186872397746754  %\n",
      "\n",
      "обработана  90000 строка из 204150:  44.0852314474651  %\n",
      "\n",
      "обработана  100000 строка из 204150:  48.98359049718344  %\n",
      "\n",
      "обработана  110000 строка из 204150:  53.88194954690179  %\n",
      "\n",
      "обработана  120000 строка из 204150:  58.78030859662013  %\n",
      "\n",
      "обработана  130000 строка из 204150:  63.678667646338475  %\n",
      "\n",
      "обработана  140000 строка из 204150:  68.57702669605682  %\n",
      "\n",
      "обработана  150000 строка из 204150:  73.47538574577517  %\n",
      "\n",
      "обработана  160000 строка из 204150:  78.37374479549351  %\n",
      "\n",
      "обработана  170000 строка из 204150:  83.27210384521186  %\n",
      "\n",
      "обработана  180000 строка из 204150:  88.1704628949302  %\n",
      "\n",
      "обработана  190000 строка из 204150:  93.06882194464855  %\n",
      "\n",
      "обработана  200000 строка из 204150:  97.96718099436688  %\n",
      "\n"
     ]
    }
   ],
   "source": [
    "dictionary_train_words = filling_used_train_words(train, dic) #проходя по каждой строчке train, заполняем таблицу"
   ]
  },
  {
   "cell_type": "code",
   "execution_count": 19,
   "metadata": {},
   "outputs": [],
   "source": [
    "wdf = pd.DataFrame(data=dictionary_train_words)"
   ]
  },
  {
   "cell_type": "code",
   "execution_count": 20,
   "metadata": {},
   "outputs": [],
   "source": [
    "wdf['val'] = (wdf['pos'] - wdf['neg'])/(wdf['pos'] + wdf['neg'])"
   ]
  },
  {
   "cell_type": "code",
   "execution_count": 21,
   "metadata": {},
   "outputs": [
    {
     "data": {
      "text/html": [
       "<div>\n",
       "<style scoped>\n",
       "    .dataframe tbody tr th:only-of-type {\n",
       "        vertical-align: middle;\n",
       "    }\n",
       "\n",
       "    .dataframe tbody tr th {\n",
       "        vertical-align: top;\n",
       "    }\n",
       "\n",
       "    .dataframe thead th {\n",
       "        text-align: right;\n",
       "    }\n",
       "</style>\n",
       "<table border=\"1\" class=\"dataframe\">\n",
       "  <thead>\n",
       "    <tr style=\"text-align: right;\">\n",
       "      <th></th>\n",
       "      <th>word</th>\n",
       "      <th>pos</th>\n",
       "      <th>neg</th>\n",
       "      <th>val</th>\n",
       "    </tr>\n",
       "  </thead>\n",
       "  <tbody>\n",
       "    <tr>\n",
       "      <th>0</th>\n",
       "      <td>игра</td>\n",
       "      <td>682</td>\n",
       "      <td>489</td>\n",
       "      <td>0.164816</td>\n",
       "    </tr>\n",
       "    <tr>\n",
       "      <th>1</th>\n",
       "      <td>красн</td>\n",
       "      <td>211</td>\n",
       "      <td>147</td>\n",
       "      <td>0.178771</td>\n",
       "    </tr>\n",
       "    <tr>\n",
       "      <th>2</th>\n",
       "      <td>бел</td>\n",
       "      <td>306</td>\n",
       "      <td>190</td>\n",
       "      <td>0.233871</td>\n",
       "    </tr>\n",
       "    <tr>\n",
       "      <th>3</th>\n",
       "      <td>форм</td>\n",
       "      <td>101</td>\n",
       "      <td>70</td>\n",
       "      <td>0.181287</td>\n",
       "    </tr>\n",
       "    <tr>\n",
       "      <th>4</th>\n",
       "      <td>нарост</td>\n",
       "      <td>3</td>\n",
       "      <td>0</td>\n",
       "      <td>1.000000</td>\n",
       "    </tr>\n",
       "    <tr>\n",
       "      <th>5</th>\n",
       "      <td>класс</td>\n",
       "      <td>617</td>\n",
       "      <td>452</td>\n",
       "      <td>0.154350</td>\n",
       "    </tr>\n",
       "    <tr>\n",
       "      <th>6</th>\n",
       "      <td>погоня</td>\n",
       "      <td>16</td>\n",
       "      <td>7</td>\n",
       "      <td>0.391304</td>\n",
       "    </tr>\n",
       "    <tr>\n",
       "      <th>7</th>\n",
       "      <td>возьмут</td>\n",
       "      <td>8</td>\n",
       "      <td>14</td>\n",
       "      <td>-0.272727</td>\n",
       "    </tr>\n",
       "    <tr>\n",
       "      <th>8</th>\n",
       "      <td>лучш</td>\n",
       "      <td>915</td>\n",
       "      <td>440</td>\n",
       "      <td>0.350554</td>\n",
       "    </tr>\n",
       "    <tr>\n",
       "      <th>9</th>\n",
       "      <td>сервис</td>\n",
       "      <td>42</td>\n",
       "      <td>83</td>\n",
       "      <td>-0.328000</td>\n",
       "    </tr>\n",
       "  </tbody>\n",
       "</table>\n",
       "</div>"
      ],
      "text/plain": [
       "      word  pos  neg       val\n",
       "0     игра  682  489  0.164816\n",
       "1    красн  211  147  0.178771\n",
       "2      бел  306  190  0.233871\n",
       "3     форм  101   70  0.181287\n",
       "4   нарост    3    0  1.000000\n",
       "5    класс  617  452  0.154350\n",
       "6   погоня   16    7  0.391304\n",
       "7  возьмут    8   14 -0.272727\n",
       "8     лучш  915  440  0.350554\n",
       "9   сервис   42   83 -0.328000"
      ]
     },
     "execution_count": 21,
     "metadata": {},
     "output_type": "execute_result"
    }
   ],
   "source": [
    "wdf.head(10)"
   ]
  },
  {
   "cell_type": "code",
   "execution_count": 22,
   "metadata": {},
   "outputs": [],
   "source": [
    "nul3 = [int(0) for i in range(n)]\n",
    "dic['value'] = nul3"
   ]
  },
  {
   "cell_type": "code",
   "execution_count": 23,
   "metadata": {},
   "outputs": [],
   "source": [
    "for k in range(n):\n",
    "    q = (dictionary_train_words['pos'][k] - dictionary_train_words['neg'][k])/(dictionary_train_words['pos'][k] + dictionary_train_words['neg'][k])\n",
    "    dictionary_train_words['value'][k] = q"
   ]
  },
  {
   "cell_type": "code",
   "execution_count": 24,
   "metadata": {},
   "outputs": [],
   "source": [
    "#df.to_csv('dictionary_train_words.csv', index=False)"
   ]
  },
  {
   "cell_type": "code",
   "execution_count": 25,
   "metadata": {},
   "outputs": [],
   "source": [
    "def my_model_predict(data, dic):\n",
    "    \n",
    "    data = data.tolist()\n",
    "    pred = [int(-1) for i in range(len(data))]\n",
    "    \n",
    "    for z in range(len(data)):\n",
    "        p = 0\n",
    "        for w in str(data[z]).split():\n",
    "            if w in l:\n",
    "                p += dic['value'][l.index(w)]\n",
    "        if p >= 0:\n",
    "            pred[z] = 1\n",
    "    return pred"
   ]
  },
  {
   "cell_type": "code",
   "execution_count": 26,
   "metadata": {},
   "outputs": [],
   "source": [
    "pred = my_model_predict(test['clear_text'], dictionary_train_words)"
   ]
  },
  {
   "cell_type": "code",
   "execution_count": 27,
   "metadata": {},
   "outputs": [],
   "source": [
    "from sklearn.metrics import accuracy_score"
   ]
  },
  {
   "cell_type": "code",
   "execution_count": 28,
   "metadata": {},
   "outputs": [
    {
     "name": "stdout",
     "output_type": "stream",
     "text": [
      "My model  0.7060483159936519\n"
     ]
    }
   ],
   "source": [
    "print('My model ', accuracy_score(test['type'], pred))"
   ]
  },
  {
   "cell_type": "code",
   "execution_count": null,
   "metadata": {},
   "outputs": [],
   "source": []
  },
  {
   "cell_type": "markdown",
   "metadata": {},
   "source": [
    "Далее можно открыть ноутбук MyModel_upgrade, где будет попытка улучшить модель"
   ]
  }
 ],
 "metadata": {
  "kernelspec": {
   "display_name": "Python 3",
   "language": "python",
   "name": "python3"
  },
  "language_info": {
   "codemirror_mode": {
    "name": "ipython",
    "version": 3
   },
   "file_extension": ".py",
   "mimetype": "text/x-python",
   "name": "python",
   "nbconvert_exporter": "python",
   "pygments_lexer": "ipython3",
   "version": "3.7.1"
  }
 },
 "nbformat": 4,
 "nbformat_minor": 2
}
