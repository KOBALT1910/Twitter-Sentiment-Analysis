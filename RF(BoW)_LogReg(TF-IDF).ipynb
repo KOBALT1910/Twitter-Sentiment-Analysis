{
 "cells": [
  {
   "cell_type": "code",
   "execution_count": 1,
   "metadata": {},
   "outputs": [],
   "source": [
    "import numpy as np\n",
    "import pandas as pd"
   ]
  },
  {
   "cell_type": "code",
   "execution_count": 2,
   "metadata": {},
   "outputs": [],
   "source": [
    "dtype = {'type': np.int8, 'clear_text': str,}\n",
    "path = 'C:/Users/user/sentiment/clear_binary_twitts.csv' #home"
   ]
  },
  {
   "cell_type": "code",
   "execution_count": 3,
   "metadata": {},
   "outputs": [],
   "source": [
    "df = pd.read_csv (path, sep=',', dtype=dtype)\n",
    "#df"
   ]
  },
  {
   "cell_type": "code",
   "execution_count": 4,
   "metadata": {},
   "outputs": [
    {
     "data": {
      "text/html": [
       "<div>\n",
       "<style scoped>\n",
       "    .dataframe tbody tr th:only-of-type {\n",
       "        vertical-align: middle;\n",
       "    }\n",
       "\n",
       "    .dataframe tbody tr th {\n",
       "        vertical-align: top;\n",
       "    }\n",
       "\n",
       "    .dataframe thead th {\n",
       "        text-align: right;\n",
       "    }\n",
       "</style>\n",
       "<table border=\"1\" class=\"dataframe\">\n",
       "  <thead>\n",
       "    <tr style=\"text-align: right;\">\n",
       "      <th></th>\n",
       "      <th>type</th>\n",
       "      <th>clear_text</th>\n",
       "    </tr>\n",
       "  </thead>\n",
       "  <tbody>\n",
       "    <tr>\n",
       "      <th>0</th>\n",
       "      <td>1</td>\n",
       "      <td>школот повер сам обществ профилир предмет тип</td>\n",
       "    </tr>\n",
       "    <tr>\n",
       "      <th>1</th>\n",
       "      <td>1</td>\n",
       "      <td>так немн похож мальчик равн</td>\n",
       "    </tr>\n",
       "    <tr>\n",
       "      <th>2</th>\n",
       "      <td>1</td>\n",
       "      <td>идиотк испуга</td>\n",
       "    </tr>\n",
       "    <tr>\n",
       "      <th>3</th>\n",
       "      <td>1</td>\n",
       "      <td>угл сид погиба голод порц взял хот жрат хот</td>\n",
       "    </tr>\n",
       "    <tr>\n",
       "      <th>4</th>\n",
       "      <td>1</td>\n",
       "      <td>знач страшилк блин посмотр част создаст ощущен...</td>\n",
       "    </tr>\n",
       "  </tbody>\n",
       "</table>\n",
       "</div>"
      ],
      "text/plain": [
       "   type                                         clear_text\n",
       "0     1      школот повер сам обществ профилир предмет тип\n",
       "1     1                        так немн похож мальчик равн\n",
       "2     1                                      идиотк испуга\n",
       "3     1        угл сид погиба голод порц взял хот жрат хот\n",
       "4     1  знач страшилк блин посмотр част создаст ощущен..."
      ]
     },
     "execution_count": 4,
     "metadata": {},
     "output_type": "execute_result"
    }
   ],
   "source": [
    "df.head()"
   ]
  },
  {
   "cell_type": "code",
   "execution_count": 5,
   "metadata": {},
   "outputs": [],
   "source": [
    "from sklearn.model_selection import train_test_split\n",
    "\n",
    "train, test = train_test_split(df, test_size=0.1, random_state=42)"
   ]
  },
  {
   "cell_type": "code",
   "execution_count": 6,
   "metadata": {},
   "outputs": [
    {
     "data": {
      "text/plain": [
       "(        type                                      clear_text\n",
       " 26253      1                      игра красн бел форм нарост\n",
       " 120387    -1                            класс погоня возьмут\n",
       " 192108    -1  лучш сервис расскрутк ваш аккаунт социальн сет\n",
       " 131248    -1       наверн буд реша задач хим физик вечн пздц\n",
       " 119281    -1                      буд примерн недел связ обл,\n",
       "         type                                         clear_text\n",
       " 215081    -1                                   мыс обидел сдела\n",
       " 220754    -1                      ааааааааааааааааааа хоч работ\n",
       " 60463      1    особен вид некотор вакуумн наушник прост держат\n",
       " 213263    -1  неплох человек жизн работа биз мног знаком вст...\n",
       " 113055     1  домаааа еха такс пел песн отдыха крича улиц на...)"
      ]
     },
     "execution_count": 6,
     "metadata": {},
     "output_type": "execute_result"
    }
   ],
   "source": [
    "train.head(), test.head()"
   ]
  },
  {
   "cell_type": "code",
   "execution_count": 7,
   "metadata": {},
   "outputs": [
    {
     "name": "stdout",
     "output_type": "stream",
     "text": [
      "11408 11276\n"
     ]
    }
   ],
   "source": [
    "t1 = test.type[test.type  == 1].count()\n",
    "t0 = test.type[test.type  == -1].count()\n",
    "print(t1,t0)"
   ]
  },
  {
   "cell_type": "markdown",
   "metadata": {},
   "source": [
    "# Модель RandomForest (35) emb. BoW (3500) 0.6942\n"
   ]
  },
  {
   "cell_type": "code",
   "execution_count": 8,
   "metadata": {},
   "outputs": [],
   "source": [
    "from sklearn.feature_extraction.text import CountVectorizer\n",
    "from sklearn.feature_extraction.text import TfidfVectorizer\n",
    "from sklearn.ensemble import RandomForestClassifier\n",
    "from sklearn.metrics import accuracy_score"
   ]
  },
  {
   "cell_type": "code",
   "execution_count": 9,
   "metadata": {},
   "outputs": [],
   "source": [
    "#_____________________________________________bag_of_words________________________________________________\n",
    "\n",
    "corpus = pd.concat([train, test], ignore_index=True) \n",
    "\n",
    "vectorizer = CountVectorizer(analyzer = \"word\",   \\\n",
    "                             tokenizer = None,    \\\n",
    "                             preprocessor = None, \\\n",
    "                             stop_words = None,   \\\n",
    "                             max_features = 3500)\n",
    "\n",
    "X = vectorizer.fit_transform(corpus['clear_text'].values.astype('U'))\n",
    "#print(vectorizer.get_feature_names())\n",
    "bd = X.toarray()\n",
    "#print(bd)"
   ]
  },
  {
   "cell_type": "code",
   "execution_count": 10,
   "metadata": {},
   "outputs": [
    {
     "data": {
      "text/plain": [
       "((226834, 3500), (204150, 2), (22684, 2))"
      ]
     },
     "execution_count": 10,
     "metadata": {},
     "output_type": "execute_result"
    }
   ],
   "source": [
    "bd.shape, train.shape, test.shape"
   ]
  },
  {
   "cell_type": "code",
   "execution_count": 11,
   "metadata": {},
   "outputs": [],
   "source": [
    "forest = RandomForestClassifier(n_estimators = 35) # количество деревьев - 35\n",
    "forest = forest.fit(bd[0:train.shape[0]], train['type'])"
   ]
  },
  {
   "cell_type": "code",
   "execution_count": 12,
   "metadata": {},
   "outputs": [
    {
     "name": "stdout",
     "output_type": "stream",
     "text": [
      "RandomForest 0.6941897372597425\n"
     ]
    }
   ],
   "source": [
    "print('RandomForest', accuracy_score(test['type'], forest.predict(bd[train.shape[0]:bd.shape[0]])))"
   ]
  },
  {
   "cell_type": "code",
   "execution_count": null,
   "metadata": {},
   "outputs": [],
   "source": []
  },
  {
   "cell_type": "markdown",
   "metadata": {},
   "source": [
    "# Модель LogReg  emb. TF-IDF (word,char n-gram)  0.7061"
   ]
  },
  {
   "cell_type": "code",
   "execution_count": 13,
   "metadata": {},
   "outputs": [],
   "source": [
    "# TF-IDF(word)\n",
    "\n",
    "tfv_word = TfidfVectorizer(min_df=150,  max_features= 1000, \n",
    "            strip_accents='unicode', analyzer='word',token_pattern=r'\\w{1,}',\n",
    "            ngram_range=(1,2))\n",
    "\n",
    "# Fitting TF-IDF to both training and test sets (semi-supervised learning)\n",
    "tfv_word.fit(list(train['clear_text'].values.astype('U')) + list(test['clear_text'].values.astype('U')))\n",
    "train_tfv_word =  tfv_word.transform(train['clear_text'].values.astype('U'))\n",
    "test_tfv_word = tfv_word.transform(test['clear_text'].values.astype('U'))"
   ]
  },
  {
   "cell_type": "code",
   "execution_count": 14,
   "metadata": {},
   "outputs": [],
   "source": [
    "# TF-IDF(char)\n",
    "\n",
    "tfv_char = TfidfVectorizer(sublinear_tf=True,strip_accents='unicode',analyzer='char',ngram_range=(2, 6),max_features=10000)\n",
    "tfv_char.fit(list(train['clear_text'].values.astype('U')) + list(test['clear_text'].values.astype('U')))\n",
    "train_tfv_char = tfv_char.transform(train['clear_text'].values.astype('U'))\n",
    "test_tfv_char = tfv_char.transform(test['clear_text'].values.astype('U'))"
   ]
  },
  {
   "cell_type": "code",
   "execution_count": 15,
   "metadata": {},
   "outputs": [],
   "source": [
    "from scipy.sparse import hstack\n",
    "# TF-IDF for test set (words + char)\n",
    "\n",
    "train_tfidf = hstack([train_tfv_word, train_tfv_char])\n",
    "test_tfidf = hstack([test_tfv_word, test_tfv_char])"
   ]
  },
  {
   "cell_type": "code",
   "execution_count": 16,
   "metadata": {},
   "outputs": [],
   "source": [
    "from sklearn.linear_model import LogisticRegression\n",
    "from sklearn.model_selection import cross_val_score\n",
    "from sklearn.metrics import f1_score, make_scorer,roc_curve, roc_auc_score"
   ]
  },
  {
   "cell_type": "code",
   "execution_count": 17,
   "metadata": {},
   "outputs": [
    {
     "name": "stderr",
     "output_type": "stream",
     "text": [
      "C:\\Users\\user\\Anaconda3\\lib\\site-packages\\sklearn\\linear_model\\logistic.py:433: FutureWarning: Default solver will be changed to 'lbfgs' in 0.22. Specify a solver to silence this warning.\n",
      "  FutureWarning)\n"
     ]
    },
    {
     "name": "stdout",
     "output_type": "stream",
     "text": [
      "[0.7178046  0.71560154 0.71899106 0.71716812 0.71651664]\n"
     ]
    }
   ],
   "source": [
    "clf_lr = LogisticRegression() # Logistic Regression Model\n",
    "\n",
    "print(cross_val_score(clf_lr, train_tfidf, train[\"type\"], cv=5, scoring=make_scorer(f1_score))) # cross validation\n",
    "\n",
    "clf_lr.fit(train_tfidf,train[\"type\"])\n",
    "\n",
    "preds = clf_lr.predict(test_tfidf) #predictions on test data"
   ]
  },
  {
   "cell_type": "code",
   "execution_count": 18,
   "metadata": {},
   "outputs": [
    {
     "name": "stdout",
     "output_type": "stream",
     "text": [
      "LogReg TF-IDF 0.7060923999294657\n"
     ]
    }
   ],
   "source": [
    "print('LogReg TF-IDF', accuracy_score(test['type'], preds))"
   ]
  },
  {
   "cell_type": "code",
   "execution_count": null,
   "metadata": {},
   "outputs": [],
   "source": []
  }
 ],
 "metadata": {
  "kernelspec": {
   "display_name": "Python 3",
   "language": "python",
   "name": "python3"
  },
  "language_info": {
   "codemirror_mode": {
    "name": "ipython",
    "version": 3
   },
   "file_extension": ".py",
   "mimetype": "text/x-python",
   "name": "python",
   "nbconvert_exporter": "python",
   "pygments_lexer": "ipython3",
   "version": "3.7.1"
  }
 },
 "nbformat": 4,
 "nbformat_minor": 2
}
